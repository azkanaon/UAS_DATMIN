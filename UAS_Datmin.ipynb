{
 "cells": [
  {
   "cell_type": "markdown",
   "id": "631d8dbe",
   "metadata": {},
   "source": [
    "##### Nama : Muhammad Azka Atqiya\n",
    "##### NIM : 2100812"
   ]
  },
  {
   "cell_type": "markdown",
   "id": "89ba74a3",
   "metadata": {},
   "source": [
    "Kasus:\n",
    "IPM (Indeks Pembangunan Manusia) adalah ukuran kualitas sumber daya manusia. PMI memiliki tiga dimensi: (1) umur panjang dan hidup sehat (a long and healthy life), (2) pengetahuan (knowledge), dan (3) standar hidup layak (decent standard of living).  PMI dihitung menggunakan data harapan hidup, rata-rata lama sekolah, pengeluaran per kapita.\n",
    "\n",
    "Asumsikan kategorisasi PMI adalah sebagai berikut:  <60: sangat rendah; 60 < pmi < 70: sedang; 70 < pmi < 80: tinggi; >80 sangat tinggi.\n",
    "\n",
    "Anda diminta memprediksi tingkat IPM per provinsi tanpa menggunakan data yang dapat digunakan untuk menghitung langsung (data proksi). Model ini bermanfaat untuk pengecekan silang dan dapat digunakan jika data yang diperlukan tidak tersedia.\n"
   ]
  },
  {
   "cell_type": "code",
   "execution_count": 1,
   "id": "c02eed96",
   "metadata": {},
   "outputs": [],
   "source": [
    "%matplotlib inline\n",
    "import numpy as np\n",
    "import pandas as pd\n",
    "import matplotlib.pyplot as plt\n",
    "import seaborn as sns\n",
    "from sklearn import preprocessing\n",
    "from sklearn.model_selection import train_test_split\n",
    "import pickle\n",
    "from sklearn.naive_bayes import GaussianNB\n",
    "from sklearn.metrics import classification_report\n",
    "from sklearn.metrics import accuracy_score\n",
    "from sklearn import tree\n",
    "from sklearn.ensemble import RandomForestClassifier\n",
    "import xgboost as xgb\n",
    "from sklearn.metrics import confusion_matrix\n",
    "from sklearn.model_selection import cross_val_score\n",
    "from sklearn.metrics import make_scorer\n",
    "from sklearn.decomposition import PCA\n",
    "import joblib\n",
    "import pickle "
   ]
  },
  {
   "cell_type": "code",
   "execution_count": 2,
   "id": "6e0cc460",
   "metadata": {},
   "outputs": [],
   "source": [
    "df = pd.read_csv('D:\\KULIAH\\Semester 3\\Data Mining\\data_UAS\\pmi.csv')"
   ]
  },
  {
   "cell_type": "markdown",
   "id": "dbdd1f9d",
   "metadata": {},
   "source": [
    "Alasan saya menggunakan kelima datset dibawah adalah karena saya berasumsi bahwa dataset dataset ini berpengaruh terhadap 3 dimensi yang mempengaruhi IPM"
   ]
  },
  {
   "cell_type": "code",
   "execution_count": 3,
   "id": "e134b403",
   "metadata": {},
   "outputs": [],
   "source": [
    "df2 = pd.read_csv('D:\\KULIAH\\Semester 3\\Data Mining\\data_UAS\\ketidak_cukupan_pangan_prov.csv')\n",
    "df3 = pd.read_csv('D:\\KULIAH\\Semester 3\\Data Mining\\data_UAS\\melek_huruf_diatas15.csv')\n",
    "df4 = pd.read_csv('D:\\KULIAH\\Semester 3\\Data Mining\\data_UAS\\persen_penduduk_trampil_tik.csv')\n",
    "df5 = pd.read_csv('D:\\KULIAH\\Semester 3\\Data Mining\\data_UAS\\persen_rumah_menyewa.csv')"
   ]
  },
  {
   "cell_type": "code",
   "execution_count": 4,
   "id": "16c4a8d9",
   "metadata": {},
   "outputs": [],
   "source": [
    "#Mengubah tahub menjadi kategori di setiap dataset\n",
    "df2['tahun'] = df2['tahun'].astype(\"category\")\n",
    "df3['tahun'] = df3['tahun'].astype(\"category\")\n",
    "df4['tahun'] = df4['tahun'].astype(\"category\")\n",
    "df5['tahun'] = df5['tahun'].astype(\"category\")\n"
   ]
  },
  {
   "cell_type": "code",
   "execution_count": 5,
   "id": "18d207c1",
   "metadata": {},
   "outputs": [],
   "source": [
    "#Mengubah provinsi menjadi kategori di setiap dataset\n",
    "df2['prov'] = df2['prov'].astype(\"category\")\n",
    "df3['prov'] = df3['prov'].astype(\"category\")\n",
    "df4['prov'] = df4['prov'].astype(\"category\")\n",
    "df5['prov'] = df5['prov'].astype(\"category\")"
   ]
  },
  {
   "cell_type": "code",
   "execution_count": 6,
   "id": "929b00de",
   "metadata": {},
   "outputs": [],
   "source": [
    "# Mereplace - dengan nan kemudian diisi dengan rata-rata\n",
    "df3['melek_huruf_diatas15'] = df3['melek_huruf_diatas15'].replace('-', np.nan)\n",
    "df3['melek_huruf_diatas15'] = df3['melek_huruf_diatas15'].astype(\"float\")\n",
    "rataRataMelek = df3['melek_huruf_diatas15'].mean()\n",
    "df3['melek_huruf_diatas15'] = df3['melek_huruf_diatas15'].fillna(rataRataMelek)"
   ]
  },
  {
   "cell_type": "code",
   "execution_count": 7,
   "id": "8c9af7ac",
   "metadata": {},
   "outputs": [
    {
     "data": {
      "text/html": [
       "<div>\n",
       "<style scoped>\n",
       "    .dataframe tbody tr th:only-of-type {\n",
       "        vertical-align: middle;\n",
       "    }\n",
       "\n",
       "    .dataframe tbody tr th {\n",
       "        vertical-align: top;\n",
       "    }\n",
       "\n",
       "    .dataframe thead th {\n",
       "        text-align: right;\n",
       "    }\n",
       "</style>\n",
       "<table border=\"1\" class=\"dataframe\">\n",
       "  <thead>\n",
       "    <tr style=\"text-align: right;\">\n",
       "      <th></th>\n",
       "      <th>tahun</th>\n",
       "      <th>persen_penduduk_trampil_tik</th>\n",
       "      <th>prov</th>\n",
       "      <th>persen_rumah_menyewa</th>\n",
       "    </tr>\n",
       "  </thead>\n",
       "  <tbody>\n",
       "    <tr>\n",
       "      <th>0</th>\n",
       "      <td>2021</td>\n",
       "      <td>60.210000</td>\n",
       "      <td>ACEH</td>\n",
       "      <td>6.86</td>\n",
       "    </tr>\n",
       "    <tr>\n",
       "      <th>1</th>\n",
       "      <td>2021</td>\n",
       "      <td>67.410000</td>\n",
       "      <td>SUMATERA UTARA</td>\n",
       "      <td>14.13</td>\n",
       "    </tr>\n",
       "    <tr>\n",
       "      <th>2</th>\n",
       "      <td>2021</td>\n",
       "      <td>68.000000</td>\n",
       "      <td>SUMATERA BARAT</td>\n",
       "      <td>11.37</td>\n",
       "    </tr>\n",
       "    <tr>\n",
       "      <th>3</th>\n",
       "      <td>2021</td>\n",
       "      <td>70.690000</td>\n",
       "      <td>RIAU</td>\n",
       "      <td>11.82</td>\n",
       "    </tr>\n",
       "    <tr>\n",
       "      <th>4</th>\n",
       "      <td>2021</td>\n",
       "      <td>64.470000</td>\n",
       "      <td>JAMBI</td>\n",
       "      <td>5.95</td>\n",
       "    </tr>\n",
       "    <tr>\n",
       "      <th>...</th>\n",
       "      <td>...</td>\n",
       "      <td>...</td>\n",
       "      <td>...</td>\n",
       "      <td>...</td>\n",
       "    </tr>\n",
       "    <tr>\n",
       "      <th>240</th>\n",
       "      <td>2015</td>\n",
       "      <td>22.112191</td>\n",
       "      <td>MALUKU</td>\n",
       "      <td>5.65</td>\n",
       "    </tr>\n",
       "    <tr>\n",
       "      <th>241</th>\n",
       "      <td>2015</td>\n",
       "      <td>15.368161</td>\n",
       "      <td>MALUKU UTARA</td>\n",
       "      <td>4.86</td>\n",
       "    </tr>\n",
       "    <tr>\n",
       "      <th>242</th>\n",
       "      <td>2015</td>\n",
       "      <td>22.953005</td>\n",
       "      <td>PAPUA BARAT</td>\n",
       "      <td>12.39</td>\n",
       "    </tr>\n",
       "    <tr>\n",
       "      <th>243</th>\n",
       "      <td>2015</td>\n",
       "      <td>11.426463</td>\n",
       "      <td>PAPUA</td>\n",
       "      <td>7.79</td>\n",
       "    </tr>\n",
       "    <tr>\n",
       "      <th>244</th>\n",
       "      <td>2015</td>\n",
       "      <td>27.040000</td>\n",
       "      <td>INDONESIA</td>\n",
       "      <td>8.08</td>\n",
       "    </tr>\n",
       "  </tbody>\n",
       "</table>\n",
       "<p>245 rows × 4 columns</p>\n",
       "</div>"
      ],
      "text/plain": [
       "    tahun  persen_penduduk_trampil_tik            prov  persen_rumah_menyewa\n",
       "0    2021                    60.210000            ACEH                  6.86\n",
       "1    2021                    67.410000  SUMATERA UTARA                 14.13\n",
       "2    2021                    68.000000  SUMATERA BARAT                 11.37\n",
       "3    2021                    70.690000            RIAU                 11.82\n",
       "4    2021                    64.470000           JAMBI                  5.95\n",
       "..    ...                          ...             ...                   ...\n",
       "240  2015                    22.112191          MALUKU                  5.65\n",
       "241  2015                    15.368161    MALUKU UTARA                  4.86\n",
       "242  2015                    22.953005     PAPUA BARAT                 12.39\n",
       "243  2015                    11.426463           PAPUA                  7.79\n",
       "244  2015                    27.040000       INDONESIA                  8.08\n",
       "\n",
       "[245 rows x 4 columns]"
      ]
     },
     "execution_count": 7,
     "metadata": {},
     "output_type": "execute_result"
    }
   ],
   "source": [
    "# agar tidak ada tabel provinsi dan tahun saat merge, maka di salah satu dataset kedua colom tersebut dihapus\n",
    "df5.drop('prov', inplace=True, axis=1)\n",
    "df5.drop('tahun', inplace=True, axis=1)\n",
    "df_list = [df4,df5]\n",
    "df_merge = pd.concat(df_list, axis = 1)\n",
    "df_merge"
   ]
  },
  {
   "cell_type": "code",
   "execution_count": null,
   "id": "6b03b367",
   "metadata": {},
   "outputs": [],
   "source": []
  },
  {
   "cell_type": "markdown",
   "id": "9357bbd9",
   "metadata": {},
   "source": [
    "Kesimpulan : Dari tabel diatas dapat disimpulkan bahwa penduduk trampil tidak memiliki outlier sama sekali, sedangkan persen_rumah_menyewa memiliki outlier yang cukup jauh"
   ]
  },
  {
   "cell_type": "code",
   "execution_count": 9,
   "id": "0344190b",
   "metadata": {},
   "outputs": [],
   "source": [
    "#satukan semua dataset\n",
    "df_baru = pd.merge(df_merge, df2, on ='prov', how = 'inner')\n",
    "df_baru1 = pd.merge(df_baru, df3, on ='prov', how = 'inner')"
   ]
  },
  {
   "cell_type": "code",
   "execution_count": 10,
   "id": "84309395",
   "metadata": {},
   "outputs": [
    {
     "name": "stdout",
     "output_type": "stream",
     "text": [
      "<class 'pandas.core.frame.DataFrame'>\n",
      "Int64Index: 11025 entries, 0 to 11024\n",
      "Data columns (total 8 columns):\n",
      " #   Column                       Non-Null Count  Dtype   \n",
      "---  ------                       --------------  -----   \n",
      " 0   tahun_x                      11025 non-null  category\n",
      " 1   persen_penduduk_trampil_tik  11025 non-null  float64 \n",
      " 2   prov                         11025 non-null  category\n",
      " 3   persen_rumah_menyewa         11025 non-null  float64 \n",
      " 4   tahun_y                      11025 non-null  category\n",
      " 5   pct_tdk_cukup_pangan         11025 non-null  float64 \n",
      " 6   tahun                        11025 non-null  category\n",
      " 7   melek_huruf_diatas15         11025 non-null  float64 \n",
      "dtypes: category(4), float64(4)\n",
      "memory usage: 476.0 KB\n"
     ]
    }
   ],
   "source": [
    "df_baru1.info()"
   ]
  },
  {
   "cell_type": "code",
   "execution_count": 13,
   "id": "d0412457",
   "metadata": {},
   "outputs": [
    {
     "data": {
      "image/png": "[encoded data removed]",
      "text/plain": [
       "<Figure size 1440x360 with 1 Axes>"
      ]
     },
     "metadata": {
      "needs_background": "light"
     },
     "output_type": "display_data"
    }
   ],
   "source": [
    "plt.figure(figsize=(20,5))\n",
    "sns.boxplot(data=df_baru1,palette='viridis')\n",
    "plt.show()"
   ]
  },
  {
   "cell_type": "markdown",
   "id": "008063a7",
   "metadata": {},
   "source": [
    "Simpulan : Pada data diatas dapat disimpulkan bahwa penduduk terampil di indonesia sudah dapat dikatakan merata, untuk persen_rumah_menyewa masih terdapat banyak outlier, begitupun pct tidak cukup pangan dan melek huruf"
   ]
  },
  {
   "cell_type": "code",
   "execution_count": 22,
   "id": "b480a994",
   "metadata": {},
   "outputs": [
    {
     "data": {
      "text/plain": [
       "<seaborn.axisgrid.PairGrid at 0x238179401c0>"
      ]
     },
     "execution_count": 22,
     "metadata": {},
     "output_type": "execute_result"
    },
    {
     "data": {
      "image/png": "[encoded data removed]",
      "text/plain": [
       "<Figure size 360x360 with 6 Axes>"
      ]
     },
     "metadata": {
      "needs_background": "light"
     },
     "output_type": "display_data"
    }
   ],
   "source": [
    "sns.pairplot(data=df_baru1[['persen_penduduk_trampil_tik','melek_huruf_diatas15']])"
   ]
  },
  {
   "cell_type": "markdown",
   "id": "e47a87c5",
   "metadata": {},
   "source": [
    "Kesimpulan pada plot ini adalah provinsi dengan melek huruf tinggi tersebar dihampir semua persen_penduduk_trampil_tik"
   ]
  },
  {
   "cell_type": "code",
   "execution_count": 23,
   "id": "e3817eb7",
   "metadata": {},
   "outputs": [],
   "source": [
    "## PROSES HOT ENCODING\n",
    "\n",
    "dfTrain = df_baru1.drop(['tahun_x', 'tahun_y','tahun', 'prov'], axis=1)"
   ]
  },
  {
   "cell_type": "code",
   "execution_count": null,
   "id": "8769a6b4",
   "metadata": {},
   "outputs": [],
   "source": []
  },
  {
   "cell_type": "code",
   "execution_count": null,
   "id": "0c4f241a",
   "metadata": {},
   "outputs": [],
   "source": []
  },
  {
   "cell_type": "code",
   "execution_count": null,
   "id": "81d1db14",
   "metadata": {},
   "outputs": [],
   "source": []
  },
  {
   "cell_type": "code",
   "execution_count": null,
   "id": "4b827e2f",
   "metadata": {},
   "outputs": [],
   "source": []
  }
 ],
 "metadata": {
  "kernelspec": {
   "display_name": "Python 3 (ipykernel)",
   "language": "python",
   "name": "python3"
  },
  "language_info": {
   "codemirror_mode": {
    "name": "ipython",
    "version": 3
   },
   "file_extension": ".py",
   "mimetype": "text/x-python",
   "name": "python",
   "nbconvert_exporter": "python",
   "pygments_lexer": "ipython3",
   "version": "3.9.12"
  }
 },
 "nbformat": 4,
 "nbformat_minor": 5
}
